{
  "cells": [
    {
      "cell_type": "code",
      "execution_count": null,
      "metadata": {
        "id": "LaDzd32ozQF7"
      },
      "outputs": [],
      "source": [
        "#to install the drive\n",
        "from google.colab import drive\n",
        "drive.mount('/content/drive')"
      ]
    },
    {
      "cell_type": "markdown",
      "metadata": {
        "id": "9H5yyQ877-M_"
      },
      "source": [
        "# 1 import libraries"
      ]
    },
    {
      "cell_type": "code",
      "execution_count": 34,
      "metadata": {
        "id": "lD1kiBNozy1X"
      },
      "outputs": [],
      "source": [
        "import pandas as pd\n",
        "import numpy as np\n",
        "import cv2\n",
        "from sklearn.model_selection import train_test_split\n",
        "from keras.utils import to_categorical\n",
        "from keras.models import Sequential\n",
        "from keras.layers import Conv2D, MaxPooling2D, Flatten, Dense\n",
        "from keras.preprocessing.image import ImageDataGenerator\n"
      ]
    },
    {
      "cell_type": "markdown",
      "metadata": {
        "id": "nPKHsWCl8EZN"
      },
      "source": [
        "# 2 load dataset AND PREPROCESSING"
      ]
    },
    {
      "cell_type": "code",
      "execution_count": 35,
      "metadata": {
        "id": "GjOY84RjzaIn"
      },
      "outputs": [],
      "source": [
        "# Load ckextended CSV file\n",
        "df = pd.read_csv(\"/content/drive/MyDrive/TAI_Project/Gattu/ckextended.csv\")\n"
      ]
    },
    {
      "cell_type": "code",
      "execution_count": null,
      "metadata": {
        "id": "eko3jUZmz2jf"
      },
      "outputs": [],
      "source": [
        "# Display basic information about the dataset\n",
        "df.info()"
      ]
    },
    {
      "cell_type": "code",
      "execution_count": null,
      "metadata": {
        "id": "F1DzFWI81civ"
      },
      "outputs": [],
      "source": [
        "print(df['emotion'].value_counts())"
      ]
    },
    {
      "cell_type": "code",
      "execution_count": 38,
      "metadata": {
        "id": "PHzz2mQO1etQ"
      },
      "outputs": [],
      "source": [
        "# Convert pixel strings to numpy arrays\n",
        "df['pixels'] = df['pixels'].apply(lambda x: np.array(x.split(), dtype=\"float32\"))\n",
        "\n",
        "\n"
      ]
    },
    {
      "cell_type": "code",
      "execution_count": 39,
      "metadata": {
        "id": "rEHgHMaI1hnf"
      },
      "outputs": [],
      "source": [
        "# Resize images to a standard size (e.g., 48x48)\n",
        "img_size = (48, 48)\n",
        "df['pixels'] = df['pixels'].apply(lambda x: cv2.resize(x.reshape(48, 48), img_size).flatten())\n",
        "\n"
      ]
    },
    {
      "cell_type": "code",
      "execution_count": 40,
      "metadata": {
        "id": "cYerI8L31jGe"
      },
      "outputs": [],
      "source": [
        "# Normalize pixel values to [0, 1]\n",
        "df['pixels'] = df['pixels'] / 255.0\n",
        "\n"
      ]
    },
    {
      "cell_type": "code",
      "execution_count": 41,
      "metadata": {
        "id": "Wn-n9MLW1lbP"
      },
      "outputs": [],
      "source": [
        "# Determine the number of classes dynamically\n",
        "num_classes = len(df['emotion'].unique())\n",
        "\n",
        "# Split dataset into features and labels\n",
        "X = np.vstack(df['pixels']).reshape(-1, 48, 48, 1)\n",
        "y = to_categorical(df['emotion'], num_classes=num_classes)\n"
      ]
    },
    {
      "cell_type": "markdown",
      "metadata": {
        "id": "wL-xr_Hk8NZV"
      },
      "source": [
        "# 3 Data Augmentation"
      ]
    },
    {
      "cell_type": "code",
      "execution_count": 42,
      "metadata": {
        "id": "y2DfgrR72Ij_"
      },
      "outputs": [],
      "source": [
        "# Create an ImageDataGenerator for data augmentation\n",
        "datagen = ImageDataGenerator(\n",
        "    rotation_range=20,\n",
        "    width_shift_range=0.2,\n",
        "    height_shift_range=0.2,\n",
        "    shear_range=0.2,\n",
        "    zoom_range=0.2,\n",
        "    horizontal_flip=True,\n",
        "    fill_mode='nearest'\n",
        ")\n"
      ]
    },
    {
      "cell_type": "markdown",
      "metadata": {
        "id": "ZHqkytO68Vks"
      },
      "source": [
        "# 4 Define the CNN architecture"
      ]
    },
    {
      "cell_type": "code",
      "execution_count": 43,
      "metadata": {
        "id": "ek9eQoKa2Nb-"
      },
      "outputs": [],
      "source": [
        "# Define the CNN architecture\n",
        "model = Sequential()\n",
        "model.add(Conv2D(32, (3, 3), activation='relu', input_shape=(48, 48, 1)))\n",
        "model.add(MaxPooling2D((2, 2)))\n",
        "model.add(Conv2D(64, (3, 3), activation='relu'))\n",
        "model.add(MaxPooling2D((2, 2)))\n",
        "model.add(Conv2D(128, (3, 3), activation='relu'))\n",
        "model.add(MaxPooling2D((2, 2)))\n",
        "model.add(Flatten())\n",
        "model.add(Dense(128, activation='relu'))\n",
        "model.add(Dense(num_classes, activation='softmax'))\n"
      ]
    },
    {
      "cell_type": "markdown",
      "metadata": {
        "id": "KCNNUtJv8XkP"
      },
      "source": [
        "Train the model"
      ]
    },
    {
      "cell_type": "code",
      "execution_count": 44,
      "metadata": {
        "id": "wBABOCaj2P2f"
      },
      "outputs": [],
      "source": [
        "# Split dataset into training and testing sets\n",
        "X_train, X_test, y_train, y_test = train_test_split(X, y, test_size=0.2, random_state=42)\n"
      ]
    },
    {
      "cell_type": "markdown",
      "metadata": {
        "id": "MeX1O9Rd8ePv"
      },
      "source": [
        "COMPILE AND TRAIN"
      ]
    },
    {
      "cell_type": "code",
      "execution_count": 45,
      "metadata": {
        "id": "RdWlo2mn2T3n"
      },
      "outputs": [],
      "source": [
        "# Compile and train the model\n",
        "model.compile(optimizer='adam', loss='categorical_crossentropy', metrics=['accuracy'])\n",
        "\n"
      ]
    },
    {
      "cell_type": "code",
      "execution_count": 46,
      "metadata": {
        "colab": {
          "base_uri": "https://localhost:8080/"
        },
        "id": "Rq2xD3-w2VXe",
        "outputId": "b87ddb79-3acd-4fec-c3f2-f8f284908499"
      },
      "outputs": [
        {
          "name": "stdout",
          "output_type": "stream",
          "text": [
            "Epoch 1/15\n"
          ]
        },
        {
          "name": "stderr",
          "output_type": "stream",
          "text": [
            "<ipython-input-46-744d35c3384d>:2: UserWarning: `Model.fit_generator` is deprecated and will be removed in a future version. Please use `Model.fit`, which supports generators.\n",
            "  history = model.fit_generator(\n"
          ]
        },
        {
          "name": "stdout",
          "output_type": "stream",
          "text": [
            "23/23 [==============================] - 5s 159ms/step - loss: 1.3814 - accuracy: 0.6454 - val_loss: 1.3356 - val_accuracy: 0.6413\n",
            "Epoch 2/15\n",
            "23/23 [==============================] - 3s 119ms/step - loss: 1.3290 - accuracy: 0.6454 - val_loss: 1.3425 - val_accuracy: 0.6413\n",
            "Epoch 3/15\n",
            "23/23 [==============================] - 5s 197ms/step - loss: 1.3224 - accuracy: 0.6454 - val_loss: 1.3364 - val_accuracy: 0.6413\n",
            "Epoch 4/15\n",
            "23/23 [==============================] - 3s 145ms/step - loss: 1.3034 - accuracy: 0.6454 - val_loss: 1.3062 - val_accuracy: 0.6413\n",
            "Epoch 5/15\n",
            "23/23 [==============================] - 2s 106ms/step - loss: 1.3065 - accuracy: 0.6454 - val_loss: 1.3082 - val_accuracy: 0.6413\n",
            "Epoch 6/15\n",
            "23/23 [==============================] - 3s 108ms/step - loss: 1.3645 - accuracy: 0.6454 - val_loss: 1.3088 - val_accuracy: 0.6413\n",
            "Epoch 7/15\n",
            "23/23 [==============================] - 3s 107ms/step - loss: 1.3197 - accuracy: 0.6454 - val_loss: 1.3104 - val_accuracy: 0.6413\n",
            "Epoch 8/15\n",
            "23/23 [==============================] - 4s 174ms/step - loss: 1.3007 - accuracy: 0.6454 - val_loss: 1.2852 - val_accuracy: 0.6413\n",
            "Epoch 9/15\n",
            "23/23 [==============================] - 3s 146ms/step - loss: 1.2839 - accuracy: 0.6454 - val_loss: 1.2797 - val_accuracy: 0.6413\n",
            "Epoch 10/15\n",
            "23/23 [==============================] - 3s 116ms/step - loss: 1.2972 - accuracy: 0.6454 - val_loss: 1.2758 - val_accuracy: 0.6413\n",
            "Epoch 11/15\n",
            "23/23 [==============================] - 2s 105ms/step - loss: 1.2793 - accuracy: 0.6454 - val_loss: 1.2416 - val_accuracy: 0.6413\n",
            "Epoch 12/15\n",
            "23/23 [==============================] - 3s 142ms/step - loss: 1.2389 - accuracy: 0.6454 - val_loss: 1.2167 - val_accuracy: 0.6467\n",
            "Epoch 13/15\n",
            "23/23 [==============================] - 3s 142ms/step - loss: 1.2467 - accuracy: 0.6535 - val_loss: 1.1403 - val_accuracy: 0.6793\n",
            "Epoch 14/15\n",
            "23/23 [==============================] - 3s 108ms/step - loss: 1.2131 - accuracy: 0.6562 - val_loss: 1.0981 - val_accuracy: 0.6957\n",
            "Epoch 15/15\n",
            "23/23 [==============================] - 3s 109ms/step - loss: 1.2066 - accuracy: 0.6603 - val_loss: 1.0988 - val_accuracy: 0.7011\n"
          ]
        }
      ],
      "source": [
        "# Train the model with data augmentation\n",
        "history = model.fit_generator(\n",
        "    datagen.flow(X_train, y_train, batch_size=32),\n",
        "    steps_per_epoch=len(X_train) / 32,\n",
        "    epochs=15,\n",
        "    validation_data=(X_test, y_test)\n",
        ")"
      ]
    },
    {
      "cell_type": "markdown",
      "metadata": {
        "id": "oBrb75G28k09"
      },
      "source": [
        "# 5 Evaluate the model"
      ]
    },
    {
      "cell_type": "code",
      "execution_count": 47,
      "metadata": {
        "colab": {
          "base_uri": "https://localhost:8080/",
          "height": 472
        },
        "id": "uxLP6aB25Bvi",
        "outputId": "88676edb-60d0-45b3-f7ea-31c5e3094364"
      },
      "outputs": [
        {
          "data": {
            "image/png": "[encoded data removed]",
            "text/plain": [
              "<Figure size 640x480 with 1 Axes>"
            ]
          },
          "metadata": {},
          "output_type": "display_data"
        }
      ],
      "source": [
        "import matplotlib.pyplot as plt\n",
        "\n",
        "# Access the training history\n",
        "acc = history.history['accuracy']\n",
        "val_acc = history.history['val_accuracy']\n",
        "epochs = range(1, len(acc) + 1)\n",
        "\n",
        "# Plotting accuracy\n",
        "plt.plot(epochs, acc, 'bo', label='Training Accuracy')\n",
        "plt.plot(epochs, val_acc, 'b', label='Validation Accuracy')\n",
        "plt.title('Training and Validation Accuracy')\n",
        "plt.xlabel('Epochs')\n",
        "plt.ylabel('Accuracy')\n",
        "plt.legend()\n",
        "\n",
        "plt.show()\n"
      ]
    },
    {
      "cell_type": "code",
      "execution_count": 48,
      "metadata": {
        "colab": {
          "base_uri": "https://localhost:8080/"
        },
        "id": "9zIwpQxe3f52",
        "outputId": "b4e5b820-5ce3-4b54-e6af-b5627c5ffa12"
      },
      "outputs": [
        {
          "name": "stdout",
          "output_type": "stream",
          "text": [
            "6/6 [==============================] - 0s 26ms/step - loss: 1.0988 - accuracy: 0.7011\n",
            "Test Accuracy: 0.7010869383811951\n"
          ]
        }
      ],
      "source": [
        "# Evaluate the model on the test set\n",
        "test_loss, test_acc = model.evaluate(X_test, y_test)\n",
        "print(f\"Test Accuracy: {test_acc}\")\n"
      ]
    },
    {
      "cell_type": "markdown",
      "metadata": {
        "id": "CUKptk-v8qE1"
      },
      "source": [
        "# 6 Fine-tuning"
      ]
    },
    {
      "cell_type": "code",
      "execution_count": 53,
      "metadata": {
        "id": "yno4P5Rh39Bm"
      },
      "outputs": [],
      "source": [
        "# Example: Adjust learning rate\n",
        "from keras.optimizers import Adam\n",
        "\n",
        "model.compile(optimizer=Adam(learning_rate=0.0001), loss='categorical_crossentropy', metrics=['accuracy'])\n"
      ]
    },
    {
      "cell_type": "code",
      "execution_count": 54,
      "metadata": {
        "colab": {
          "base_uri": "https://localhost:8080/"
        },
        "id": "eDhIoyS64HVl",
        "outputId": "47d4406b-e57e-49e4-a1df-e4af0de8cb4d"
      },
      "outputs": [
        {
          "name": "stdout",
          "output_type": "stream",
          "text": [
            "Epoch 1/20\n"
          ]
        },
        {
          "name": "stderr",
          "output_type": "stream",
          "text": [
            "<ipython-input-54-390072abd41a>:2: UserWarning: `Model.fit_generator` is deprecated and will be removed in a future version. Please use `Model.fit`, which supports generators.\n",
            "  history1 = model.fit_generator(\n"
          ]
        },
        {
          "name": "stdout",
          "output_type": "stream",
          "text": [
            "23/23 [==============================] - 4s 118ms/step - loss: 1.1944 - accuracy: 0.6603 - val_loss: 1.0755 - val_accuracy: 0.7011\n",
            "Epoch 2/20\n",
            "23/23 [==============================] - 4s 163ms/step - loss: 1.1721 - accuracy: 0.6590 - val_loss: 1.0752 - val_accuracy: 0.7065\n",
            "Epoch 3/20\n",
            "23/23 [==============================] - 3s 146ms/step - loss: 1.1602 - accuracy: 0.6739 - val_loss: 1.0699 - val_accuracy: 0.7065\n",
            "Epoch 4/20\n",
            "23/23 [==============================] - 3s 118ms/step - loss: 1.1746 - accuracy: 0.6549 - val_loss: 1.0663 - val_accuracy: 0.7065\n",
            "Epoch 5/20\n",
            "23/23 [==============================] - 3s 112ms/step - loss: 1.1566 - accuracy: 0.6739 - val_loss: 1.0587 - val_accuracy: 0.7065\n",
            "Epoch 6/20\n",
            "23/23 [==============================] - 3s 136ms/step - loss: 1.1574 - accuracy: 0.6698 - val_loss: 1.0567 - val_accuracy: 0.7065\n",
            "Epoch 7/20\n",
            "23/23 [==============================] - 4s 152ms/step - loss: 1.1480 - accuracy: 0.6630 - val_loss: 1.0540 - val_accuracy: 0.7065\n",
            "Epoch 8/20\n",
            "23/23 [==============================] - 3s 110ms/step - loss: 1.1541 - accuracy: 0.6726 - val_loss: 1.0545 - val_accuracy: 0.7011\n",
            "Epoch 9/20\n",
            "23/23 [==============================] - 3s 110ms/step - loss: 1.1670 - accuracy: 0.6671 - val_loss: 1.0461 - val_accuracy: 0.7011\n",
            "Epoch 10/20\n",
            "23/23 [==============================] - 3s 115ms/step - loss: 1.1506 - accuracy: 0.6753 - val_loss: 1.0470 - val_accuracy: 0.7011\n",
            "Epoch 11/20\n",
            "23/23 [==============================] - 4s 155ms/step - loss: 1.1585 - accuracy: 0.6712 - val_loss: 1.0453 - val_accuracy: 0.6957\n",
            "Epoch 12/20\n",
            "23/23 [==============================] - 3s 112ms/step - loss: 1.1427 - accuracy: 0.6698 - val_loss: 1.0424 - val_accuracy: 0.6957\n",
            "Epoch 13/20\n",
            "23/23 [==============================] - 3s 110ms/step - loss: 1.1496 - accuracy: 0.6739 - val_loss: 1.0388 - val_accuracy: 0.6957\n",
            "Epoch 14/20\n",
            "23/23 [==============================] - 5s 199ms/step - loss: 1.1471 - accuracy: 0.6766 - val_loss: 1.0361 - val_accuracy: 0.6957\n",
            "Epoch 15/20\n",
            "23/23 [==============================] - 4s 166ms/step - loss: 1.1496 - accuracy: 0.6644 - val_loss: 1.0310 - val_accuracy: 0.6957\n",
            "Epoch 16/20\n",
            "23/23 [==============================] - 3s 109ms/step - loss: 1.1324 - accuracy: 0.6766 - val_loss: 1.0284 - val_accuracy: 0.6957\n",
            "Epoch 17/20\n",
            "23/23 [==============================] - 2s 106ms/step - loss: 1.1390 - accuracy: 0.6726 - val_loss: 1.0229 - val_accuracy: 0.6957\n",
            "Epoch 18/20\n",
            "23/23 [==============================] - 4s 154ms/step - loss: 1.1460 - accuracy: 0.6658 - val_loss: 1.0175 - val_accuracy: 0.6957\n",
            "Epoch 19/20\n",
            "23/23 [==============================] - 4s 190ms/step - loss: 1.1158 - accuracy: 0.6780 - val_loss: 1.0169 - val_accuracy: 0.6957\n",
            "Epoch 20/20\n",
            "23/23 [==============================] - 3s 124ms/step - loss: 1.1064 - accuracy: 0.6875 - val_loss: 1.0103 - val_accuracy: 0.6957\n"
          ]
        }
      ],
      "source": [
        "# Train the model with data augmentation\n",
        "history1 = model.fit_generator(\n",
        "    datagen.flow(X_train, y_train, batch_size=32),\n",
        "    steps_per_epoch=len(X_train) / 32,\n",
        "    epochs=20,\n",
        "    validation_data=(X_test, y_test)\n",
        ")"
      ]
    },
    {
      "cell_type": "code",
      "execution_count": 57,
      "metadata": {
        "colab": {
          "base_uri": "https://localhost:8080/",
          "height": 472
        },
        "id": "XXFjsndV7lg1",
        "outputId": "1185bf70-4ea7-47ef-cede-80c57d26134a"
      },
      "outputs": [
        {
          "data": {
            "image/png": "[encoded data removed]",
            "text/plain": [
              "<Figure size 640x480 with 1 Axes>"
            ]
          },
          "metadata": {},
          "output_type": "display_data"
        }
      ],
      "source": [
        "import matplotlib.pyplot as plt\n",
        "\n",
        "# Access the training history\n",
        "acc = history1.history['accuracy']\n",
        "val_acc = history1.history['val_accuracy']\n",
        "epochs = range(1, len(acc) + 1)\n",
        "\n",
        "# Plotting accuracy\n",
        "plt.plot(epochs, acc, 'bo', label='Training Accuracy')\n",
        "plt.plot(epochs, val_acc, 'b', label='Validation Accuracy')\n",
        "plt.title('Training and Validation Accuracy')\n",
        "plt.xlabel('Epochs')\n",
        "plt.ylabel('Accuracy')\n",
        "plt.legend()\n",
        "\n",
        "plt.show()\n"
      ]
    }
  ],
  "metadata": {
    "colab": {
      "provenance": []
    },
    "kernelspec": {
      "display_name": "Python 3",
      "name": "python3"
    },
    "language_info": {
      "name": "python"
    }
  },
  "nbformat": 4,
  "nbformat_minor": 0
}
